{
 "cells": [
  {
   "cell_type": "code",
   "execution_count": 2,
   "metadata": {},
   "outputs": [],
   "source": [
    "import os\n",
    "import zipfile\n",
    "import pandas as pd\n",
    "\n",
    "with zipfile.ZipFile('../files/input.zip', 'r') as directory:\n",
    "    directory.extractall('files')\n",
    "\n",
    "root_directory = os.path.join('files', 'input')\n",
    "directorios = []\n",
    "\n",
    "for file in os.listdir(root_directory):\n",
    "    directorios.append(file)"
   ]
  },
  {
   "cell_type": "code",
   "execution_count": 3,
   "metadata": {},
   "outputs": [],
   "source": [
    "output_directory = os.path.join('files', 'output')\n",
    "os.makedirs(output_directory, exist_ok=True)"
   ]
  },
  {
   "cell_type": "code",
   "execution_count": 12,
   "metadata": {},
   "outputs": [],
   "source": [
    "directorios = sorted(directorios)\n",
    "train_directory = os.path.join(root_directory, directorios[1])\n",
    "test_directory = os.path.join(root_directory, directorios[0])\n",
    "\n",
    "def create_dataset(directory):\n",
    "\n",
    "    data = []\n",
    "        \n",
    "    for sentiment in ['positive', 'neutral', 'negative']:\n",
    "        sentiment_path = os.path.join(directory, sentiment)\n",
    "        for filename in os.listdir(sentiment_path):\n",
    "            file_path = os.path.join(sentiment_path, filename)\n",
    "            with open(file_path, 'r', encoding='utf-8') as file:\n",
    "                text = file.read().strip()\n",
    "            data.append({'phrase': text, 'target': sentiment})\n",
    "        \n",
    "    dataset = pd.DataFrame(data)\n",
    "\n",
    "    return dataset"
   ]
  },
  {
   "cell_type": "code",
   "execution_count": 13,
   "metadata": {},
   "outputs": [],
   "source": [
    "train_dataset = create_dataset(directory=train_directory)\n",
    "test_dataset = create_dataset(directory=test_directory)"
   ]
  },
  {
   "cell_type": "code",
   "execution_count": 7,
   "metadata": {},
   "outputs": [],
   "source": [
    "train_dataset.to_csv(os.path.join(output_directory, 'train_dataset.csv'), index=False)\n",
    "test_dataset.to_csv(os.path.join(output_directory, 'test_dataset.csv'), index=False)"
   ]
  },
  {
   "cell_type": "code",
   "execution_count": 14,
   "metadata": {},
   "outputs": [
    {
     "data": {
      "text/plain": [
       "target\n",
       "neutral     1117\n",
       "positive     458\n",
       "negative     236\n",
       "Name: count, dtype: int64"
      ]
     },
     "metadata": {},
     "output_type": "display_data"
    },
    {
     "data": {
      "text/plain": [
       "target\n",
       "neutral     274\n",
       "positive    112\n",
       "negative     67\n",
       "Name: count, dtype: int64"
      ]
     },
     "metadata": {},
     "output_type": "display_data"
    }
   ],
   "source": [
    "display(\n",
    "    train_dataset['target'].value_counts(),\n",
    "    test_dataset['target'].value_counts()\n",
    ")"
   ]
  }
 ],
 "metadata": {
  "kernelspec": {
   "display_name": ".venv",
   "language": "python",
   "name": "python3"
  },
  "language_info": {
   "codemirror_mode": {
    "name": "ipython",
    "version": 3
   },
   "file_extension": ".py",
   "mimetype": "text/x-python",
   "name": "python",
   "nbconvert_exporter": "python",
   "pygments_lexer": "ipython3",
   "version": "3.10.9"
  }
 },
 "nbformat": 4,
 "nbformat_minor": 2
}
